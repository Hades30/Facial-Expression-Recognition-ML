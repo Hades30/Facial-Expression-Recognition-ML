{
  "nbformat": 4,
  "nbformat_minor": 0,
  "metadata": {
    "colab": {
      "name": "Untitled11.ipynb",
      "provenance": [],
      "collapsed_sections": []
    },
    "kernelspec": {
      "display_name": "Python 3",
      "name": "python3"
    }
  },
  "cells": [
    {
      "cell_type": "code",
      "metadata": {
        "id": "ssZXEdmSl-4O",
        "colab": {
          "base_uri": "https://localhost:8080/"
        },
        "outputId": "75cfcaa6-218e-44fd-c2da-c9480ff3b696"
      },
      "source": [
        "import pandas as pd\n",
        "import numpy as np\n",
        "import matplotlib.pyplot as mlt\n",
        "from PIL import Image\n",
        "import cv2\n",
        "import glob\n",
        "from PIL import Image as im\n",
        "from numpy import asarray\n",
        "import csv  \n",
        "from google.colab import files\n",
        "from sklearn.externals import joblib"
      ],
      "execution_count": null,
      "outputs": [
        {
          "output_type": "stream",
          "text": [
            "/usr/local/lib/python3.6/dist-packages/sklearn/externals/joblib/__init__.py:15: FutureWarning: sklearn.externals.joblib is deprecated in 0.21 and will be removed in 0.23. Please import this functionality directly from joblib, which can be installed with: pip install joblib. If this warning is raised when loading pickled models, you may need to re-serialize those models with scikit-learn 0.21+.\n",
            "  warnings.warn(msg, category=FutureWarning)\n"
          ],
          "name": "stderr"
        }
      ]
    },
    {
      "cell_type": "code",
      "metadata": {
        "id": "6jbvqyGtnIrM"
      },
      "source": [
        "dataset=pd.read_csv('/content/drive/My Drive/fer2013.csv')\n",
        "emotions = ('angry', 'disgust', 'fear', 'happy', 'sad', 'surprise')"
      ],
      "execution_count": null,
      "outputs": []
    },
    {
      "cell_type": "markdown",
      "metadata": {
        "id": "cMAHYZlDpgsy"
      },
      "source": [
        "#FER2013 DATASET"
      ]
    },
    {
      "cell_type": "code",
      "metadata": {
        "id": "qY4rPY-Yu2Gl"
      },
      "source": [
        "Y=[]\n",
        "X=[] \n",
        "Z=[]\n",
        "for a in open('/content/drive/My Drive/fer2013.csv'):\n",
        "            b = a.split(',')\n",
        "            if(int(b[0])!=6 and int(b[0])!=3):\n",
        "             Y.append(int(b[0]))\n",
        "             d=im.fromarray(np.array([int(p)/255.0 for p in b[1].split()]).reshape(48,48))\n",
        "             d=d.resize((40,40))\n",
        "             arraydata = asarray(d)\n",
        "             X.append(arraydata) \n",
        "            if(int(b[0])==3):\n",
        "             d=im.fromarray(np.array([int(p)/255.0 for p in b[1].split()]).reshape(48,48))\n",
        "             d=d.resize((40,40))\n",
        "             arraydata = asarray(d)\n",
        "             Z.append(arraydata) \n",
        "for i in range(0,6000):\n",
        "  X.append(Z[i])\n",
        "  Y.append(3)"
      ],
      "execution_count": null,
      "outputs": []
    },
    {
      "cell_type": "markdown",
      "metadata": {
        "id": "MgpaOuFVI5VO"
      },
      "source": [
        "#EXTRA DISGUSTED IMAGES"
      ]
    },
    {
      "cell_type": "code",
      "metadata": {
        "id": "Wi3rVGJgCdFY"
      },
      "source": [
        "\n",
        "for a in open('/content/drive/My Drive/Disgusted.csv'):\n",
        "  v=[int(p)/255.0 for p in a.split(',')]\n",
        "  v=np.array(v)\n",
        "  v=v.reshape(40,40)\n",
        "  X.append(v)\n",
        "  Y.append(1)\n",
        "  "
      ],
      "execution_count": null,
      "outputs": []
    },
    {
      "cell_type": "code",
      "metadata": {
        "id": "Zb4W0nMcWmlZ"
      },
      "source": [
        "X=np.array(X)\n",
        "N=X.shape[0]\n",
        "X = X.reshape(N,1600)\n",
        "num_class=7"
      ],
      "execution_count": null,
      "outputs": []
    },
    {
      "cell_type": "markdown",
      "metadata": {
        "id": "2cv0St9Zpjzz"
      },
      "source": [
        "#CK(+) DATASET"
      ]
    },
    {
      "cell_type": "code",
      "metadata": {
        "id": "PpYrIa5Vtl-8"
      },
      "source": [
        "SampleX=[]\n",
        "SampleY=[]\n",
        "for filename in glob.glob('/content/drive/My Drive/happy/*.png'): \n",
        "  h=Image.open(filename)\n",
        "  SampleY.append(3)\n",
        "  h=asarray(h.resize((40,40)))\n",
        "  SampleX.append(h/255.0)\n",
        "for filename in glob.glob('/content/drive/My Drive/sadness/*.png'): \n",
        "  h=Image.open(filename)\n",
        "  SampleY.append(4)\n",
        "  h=asarray(h.resize((40,40)))\n",
        "  SampleX.append(h/255.0)  \n",
        "for filename in glob.glob('/content/drive/My Drive/fear/*.png'): \n",
        "  h=Image.open(filename)\n",
        "  SampleY.append(2)\n",
        "  h=asarray(h.resize((40,40)))\n",
        "  SampleX.append(h/255.0)\n",
        "for filename in glob.glob('/content/drive/My Drive/anger/*.png'): \n",
        "  h=Image.open(filename)\n",
        "  SampleY.append(0)\n",
        "  h=asarray(h.resize((40,40)))\n",
        "  SampleX.append(h/255.0)\n",
        "for filename in glob.glob('/content/drive/My Drive/surprise/*.png'):\n",
        "  h=Image.open(filename)\n",
        "  SampleY.append(5)\n",
        "  h=asarray(h.resize((40,40)))\n",
        "  SampleX.append(h/255.0)\n",
        "for filename in glob.glob('/content/drive/My Drive/disgust/*.png'):\n",
        "  h=Image.open(filename)\n",
        "  SampleY.append(1)\n",
        "  h=asarray(h.resize((40,40)))\n",
        "  SampleX.append(h/255.0)"
      ],
      "execution_count": null,
      "outputs": []
    },
    {
      "cell_type": "code",
      "metadata": {
        "colab": {
          "base_uri": "https://localhost:8080/"
        },
        "id": "TybulekU9fRY",
        "outputId": "5fc23456-f5cd-4a3b-ba1a-273bdd4347a2"
      },
      "source": [
        "X=np.array(X)\n",
        "Y=np.array(Y)\n",
        "SampleX=np.array(SampleX)\n",
        "SampleY=np.array(SampleY)\n",
        "\n",
        "X.shape"
      ],
      "execution_count": null,
      "outputs": [
        {
          "output_type": "execute_result",
          "data": {
            "text/plain": [
              "(28789, 1600)"
            ]
          },
          "metadata": {
            "tags": []
          },
          "execution_count": 7
        }
      ]
    },
    {
      "cell_type": "markdown",
      "metadata": {
        "id": "4Lpuo69rUZzw"
      },
      "source": [
        "#Building A Dataset"
      ]
    },
    {
      "cell_type": "code",
      "metadata": {
        "id": "vXA5RiK53Xmt"
      },
      "source": [
        "face_crop = []\n"
      ],
      "execution_count": null,
      "outputs": []
    },
    {
      "cell_type": "code",
      "metadata": {
        "id": "aJkdQE7C1Vaf",
        "colab": {
          "base_uri": "https://localhost:8080/"
        },
        "outputId": "f8bd1c0d-aba4-4b3c-bcaa-44005eec7111"
      },
      "source": [
        "face_cascade = cv2.CascadeClassifier('/content/drive/My Drive/haarcascade_frontalface_default.xml')\n",
        "for filename in glob.glob('/content/drive/My Drive/images/*.jpg'):  \n",
        " h=cv2.imread(filename) \n",
        " g = cv2.cvtColor(h, cv2.COLOR_RGB2GRAY)\n",
        " fac = face_cascade.detectMultiScale(h)\n",
        " for f in fac:\n",
        "    x, y, w, h = [ p for p in f ]\n",
        "    face_crop.append(g[y:y+h, x:x+w])\n",
        "for filename in glob.glob('/content/drive/My Drive/z/*'):  \n",
        " h=cv2.imread(filename) \n",
        " g = cv2.cvtColor(h, cv2.COLOR_RGB2GRAY)\n",
        " f = face_cascade.detectMultiScale(h)\n",
        " for f in fac:\n",
        "    x, y, w, h = [ p for p in f ]\n",
        "    face_crop.append(g[y:y+h, x:x+w])\n",
        "for filename in glob.glob('/content/drive/My Drive/Google photos/*.jpg'):  \n",
        " h=cv2.imread(filename) \n",
        " g = cv2.cvtColor(h, cv2.COLOR_RGB2GRAY)\n",
        " fac = face_cascade.detectMultiScale(h)\n",
        " for f in fac:\n",
        "    x, y, w, h = [ p for p in f ]\n",
        "    face_crop.append(g[y:y+h, x:x+w])"
      ],
      "execution_count": null,
      "outputs": [
        {
          "output_type": "execute_result",
          "data": {
            "text/plain": [
              "823"
            ]
          },
          "metadata": {
            "tags": []
          },
          "execution_count": 43
        }
      ]
    },
    {
      "cell_type": "code",
      "metadata": {
        "colab": {
          "base_uri": "https://localhost:8080/"
        },
        "id": "X4KIvau_1Rt8",
        "outputId": "e04a8161-1d19-4715-9f17-f3677f190305"
      },
      "source": [
        "face_crop=np.array(face_crop)\n",
        "face_crop.shape"
      ],
      "execution_count": null,
      "outputs": [
        {
          "output_type": "execute_result",
          "data": {
            "text/plain": [
              "(2089,)"
            ]
          },
          "metadata": {
            "tags": []
          },
          "execution_count": 47
        }
      ]
    },
    {
      "cell_type": "code",
      "metadata": {
        "id": "Xhno0QbM40qP"
      },
      "source": [
        "csv1=[]\n",
        "for z in face_crop:\n",
        "  d=im.fromarray(z)\n",
        "  d=d.resize((40,40))\n",
        "  csv1.append(asarray(d))\n",
        "\n"
      ],
      "execution_count": null,
      "outputs": []
    },
    {
      "cell_type": "code",
      "metadata": {
        "id": "CettfN5v-ouJ"
      },
      "source": [
        "csv1=np.array(csv1)\n",
        "csv1=csv1.reshape(csv1.shape[0],1600)\n",
        "\n"
      ],
      "execution_count": null,
      "outputs": []
    },
    {
      "cell_type": "code",
      "metadata": {
        "colab": {
          "base_uri": "https://localhost:8080/"
        },
        "id": "f-nj-ajABqnH",
        "outputId": "46dd63a2-32da-43f1-e88f-1c46803fb2a5"
      },
      "source": [
        "csv1.shape"
      ],
      "execution_count": null,
      "outputs": [
        {
          "output_type": "execute_result",
          "data": {
            "text/plain": [
              "(2089, 1, 1600)"
            ]
          },
          "metadata": {
            "tags": []
          },
          "execution_count": 87
        }
      ]
    },
    {
      "cell_type": "code",
      "metadata": {
        "id": "hwzjf7ja9bqu"
      },
      "source": [
        "filename = \"/content/drive/My Drive/Disgusted.csv\"\n",
        "with open(filename, 'w') as csvfile:  \n",
        "    csvwriter = csv.writer(csvfile)  \n",
        "    csvwriter.writerows(csv1) "
      ],
      "execution_count": null,
      "outputs": []
    },
    {
      "cell_type": "markdown",
      "metadata": {
        "id": "rV4lxJenWHir"
      },
      "source": [
        "#Visualisation"
      ]
    },
    {
      "cell_type": "code",
      "metadata": {
        "colab": {
          "base_uri": "https://localhost:8080/",
          "height": 285
        },
        "id": "qe5qLM9bTJ0U",
        "outputId": "e6f8c5b2-6e1e-498a-ee29-9e9d4167a7aa"
      },
      "source": [
        "mlt.imshow(X[2000].reshape(40,40))\n",
        "emotions[Y[2000]]"
      ],
      "execution_count": null,
      "outputs": [
        {
          "output_type": "execute_result",
          "data": {
            "application/vnd.google.colaboratory.intrinsic+json": {
              "type": "string"
            },
            "text/plain": [
              "'sad'"
            ]
          },
          "metadata": {
            "tags": []
          },
          "execution_count": 9
        },
        {
          "output_type": "display_data",
          "data": {
            "image/png": "[encoded data removed]",
            "text/plain": [
              "<Figure size 432x288 with 1 Axes>"
            ]
          },
          "metadata": {
            "tags": [],
            "needs_background": "light"
          }
        }
      ]
    },
    {
      "cell_type": "code",
      "metadata": {
        "colab": {
          "base_uri": "https://localhost:8080/",
          "height": 285
        },
        "id": "vH5OmtBjUe-k",
        "outputId": "562ce7c7-3771-4308-d7ff-6c9f6b1bd10f"
      },
      "source": [
        "mlt.imshow(X[444].reshape(40,40))\n",
        "emotions[Y[444]]"
      ],
      "execution_count": null,
      "outputs": [
        {
          "output_type": "execute_result",
          "data": {
            "application/vnd.google.colaboratory.intrinsic+json": {
              "type": "string"
            },
            "text/plain": [
              "'angry'"
            ]
          },
          "metadata": {
            "tags": []
          },
          "execution_count": 11
        },
        {
          "output_type": "display_data",
          "data": {
            "image/png": "[encoded data removed]",
            "text/plain": [
              "<Figure size 432x288 with 1 Axes>"
            ]
          },
          "metadata": {
            "tags": [],
            "needs_background": "light"
          }
        }
      ]
    },
    {
      "cell_type": "code",
      "metadata": {
        "id": "OMca8m3ztsg2"
      },
      "source": [
        "sum=[]\n",
        "for i in range(0,6):\n",
        "  sum.append(np.sum(Y==i))\n",
        "  \n",
        "sum=np.array(sum)"
      ],
      "execution_count": null,
      "outputs": []
    },
    {
      "cell_type": "code",
      "metadata": {
        "id": "6XwMGoEMNlQ5"
      },
      "source": [
        "SampleX=SampleX.reshape(SampleX.shape[0],1600)"
      ],
      "execution_count": null,
      "outputs": []
    },
    {
      "cell_type": "code",
      "metadata": {
        "colab": {
          "base_uri": "https://localhost:8080/",
          "height": 265
        },
        "id": "RVEgfvn4qkCM",
        "outputId": "e38e2813-549d-4887-a86a-1f861c173911"
      },
      "source": [
        "data = [sum[0],sum[1],sum[2],sum[3],sum[4],sum[5]]\n",
        "mlt.bar([emotions[0],emotions[1],emotions[2],emotions[3],emotions[4],emotions[5]], data)\n",
        "mlt.show()"
      ],
      "execution_count": null,
      "outputs": [
        {
          "output_type": "display_data",
          "data": {
            "image/png": "[encoded data removed]",
            "text/plain": [
              "<Figure size 432x288 with 1 Axes>"
            ]
          },
          "metadata": {
            "tags": [],
            "needs_background": "light"
          }
        }
      ]
    },
    {
      "cell_type": "code",
      "metadata": {
        "id": "pJrbeZaqwGzh"
      },
      "source": [
        "sum=[]\n",
        "for i in range(0,7):\n",
        "  sum.append(np.sum(SampleY==i)) \n",
        "  \n",
        "sum=np.array(sum)"
      ],
      "execution_count": null,
      "outputs": []
    },
    {
      "cell_type": "code",
      "metadata": {
        "id": "u1gCgvxQsUUh",
        "colab": {
          "base_uri": "https://localhost:8080/",
          "height": 265
        },
        "outputId": "23fb572a-e6b4-4e5a-d16b-dbe7abe6d0a2"
      },
      "source": [
        "data = [sum[0],sum[1],sum[2],sum[3],sum[4],sum[5]]\n",
        "mlt.bar([emotions[0],emotions[1],emotions[2],emotions[3],emotions[4],emotions[5]], data)\n",
        "mlt.show()"
      ],
      "execution_count": null,
      "outputs": [
        {
          "output_type": "display_data",
          "data": {
            "image/png": "[encoded data removed]",
            "text/plain": [
              "<Figure size 432x288 with 1 Axes>"
            ]
          },
          "metadata": {
            "tags": [],
            "needs_background": "light"
          }
        }
      ]
    },
    {
      "cell_type": "markdown",
      "metadata": {
        "id": "er-I1KVcWsph"
      },
      "source": [
        "#Splitting Train and Test"
      ]
    },
    {
      "cell_type": "code",
      "metadata": {
        "id": "TevzciOuvhZN"
      },
      "source": [
        "from sklearn.model_selection import train_test_split\n",
        "X_train, X_test, y_train, y_test = train_test_split(X, Y, test_size=0.1, random_state=0)"
      ],
      "execution_count": null,
      "outputs": []
    },
    {
      "cell_type": "code",
      "metadata": {
        "colab": {
          "base_uri": "https://localhost:8080/"
        },
        "id": "DfluWhCUNFo8",
        "outputId": "5c1c8661-f361-4040-b129-29cdcc73779b"
      },
      "source": [
        "for i in range(0,6):\n",
        "  print(np.sum(y_test==i),' ',emotions[i]) "
      ],
      "execution_count": null,
      "outputs": [
        {
          "output_type": "stream",
          "text": [
            "490   angry\n",
            "255   disgust\n",
            "503   fear\n",
            "614   happy\n",
            "603   sad\n",
            "414   surprise\n"
          ],
          "name": "stdout"
        }
      ]
    },
    {
      "cell_type": "markdown",
      "metadata": {
        "id": "22ktGKBen82M"
      },
      "source": [
        "#MODELS"
      ]
    },
    {
      "cell_type": "code",
      "metadata": {
        "colab": {
          "base_uri": "https://localhost:8080/"
        },
        "id": "u_oCxT72vhrz",
        "outputId": "6882237f-0742-439f-ae0d-122fb30cb04e"
      },
      "source": [
        "from sklearn import svm\n",
        "classifier=svm.LinearSVC(multi_class='ovr',max_iter=3000)\n",
        "classifier.fit(X_train,y_train)\n",
        "y_pred=classifier.predict(X_test)"
      ],
      "execution_count": null,
      "outputs": [
        {
          "output_type": "stream",
          "text": [
            "/usr/local/lib/python3.6/dist-packages/sklearn/svm/_base.py:947: ConvergenceWarning: Liblinear failed to converge, increase the number of iterations.\n",
            "  \"the number of iterations.\", ConvergenceWarning)\n"
          ],
          "name": "stderr"
        }
      ]
    },
    {
      "cell_type": "code",
      "metadata": {
        "colab": {
          "base_uri": "https://localhost:8080/"
        },
        "id": "6dJwLeJThFDs",
        "outputId": "4b3ad3c4-8a2a-4d01-f196-cf6df012791e"
      },
      "source": [
        "from sklearn.neighbors import KNeighborsClassifier\n",
        "neigh = KNeighborsClassifier(n_neighbors=12)\n",
        "neigh.fit(X_train, y_train)"
      ],
      "execution_count": null,
      "outputs": [
        {
          "output_type": "execute_result",
          "data": {
            "text/plain": [
              "KNeighborsClassifier(algorithm='auto', leaf_size=30, metric='minkowski',\n",
              "                     metric_params=None, n_jobs=None, n_neighbors=12, p=2,\n",
              "                     weights='uniform')"
            ]
          },
          "metadata": {
            "tags": []
          },
          "execution_count": 10
        }
      ]
    },
    {
      "cell_type": "code",
      "metadata": {
        "colab": {
          "base_uri": "https://localhost:8080/"
        },
        "id": "O7XBxCOF9f7S",
        "outputId": "d0be0f7a-2bca-4e43-801c-a3c386848c15"
      },
      "source": [
        "from sklearn.linear_model import LogisticRegression\n",
        "model = LogisticRegression(multi_class='ovr',max_iter=3500)\n",
        "model.fit(X_train,y_train)"
      ],
      "execution_count": null,
      "outputs": [
        {
          "output_type": "execute_result",
          "data": {
            "text/plain": [
              "LogisticRegression(C=1.0, class_weight=None, dual=False, fit_intercept=True,\n",
              "                   intercept_scaling=1, l1_ratio=None, max_iter=3500,\n",
              "                   multi_class='ovr', n_jobs=None, penalty='l2',\n",
              "                   random_state=None, solver='lbfgs', tol=0.0001, verbose=0,\n",
              "                   warm_start=False)"
            ]
          },
          "metadata": {
            "tags": []
          },
          "execution_count": 13
        }
      ]
    },
    {
      "cell_type": "markdown",
      "metadata": {
        "id": "jOFhxf7woUTb"
      },
      "source": [
        "#Result"
      ]
    },
    {
      "cell_type": "code",
      "metadata": {
        "id": "FsAWN6G7A39R"
      },
      "source": [
        "y_pred=model.predict(X_test)"
      ],
      "execution_count": null,
      "outputs": []
    },
    {
      "cell_type": "code",
      "metadata": {
        "id": "JguJSvrsA0XI",
        "colab": {
          "base_uri": "https://localhost:8080/"
        },
        "outputId": "31345c96-c70c-4460-e086-f00f373f4625"
      },
      "source": [
        "neigh.score(SampleX,SampleY)"
      ],
      "execution_count": null,
      "outputs": [
        {
          "output_type": "execute_result",
          "data": {
            "text/plain": [
              "0.33980582524271846"
            ]
          },
          "metadata": {
            "tags": []
          },
          "execution_count": 12
        }
      ]
    },
    {
      "cell_type": "code",
      "metadata": {
        "colab": {
          "base_uri": "https://localhost:8080/"
        },
        "id": "CT9ZBJfMvh8m",
        "outputId": "251f115d-faf9-4cfb-d79e-5424fa0c32c6"
      },
      "source": [
        "import numpy as np\n",
        "from sklearn.metrics import confusion_matrix\n",
        "confusion_matrix(y_pred,SampleY)"
      ],
      "execution_count": null,
      "outputs": [
        {
          "output_type": "execute_result",
          "data": {
            "text/plain": [
              "array([[ 18,  34,   5,   0,   9,   0],\n",
              "       [ 64, 117,  21,  16,  17,   0],\n",
              "       [  6,   2,   9,   0,   7,   4],\n",
              "       [  3,  10,  14, 191,   0,   3],\n",
              "       [ 36,  12,   6,   0,  23,  10],\n",
              "       [  8,   2,  20,   0,  28, 232]])"
            ]
          },
          "metadata": {
            "tags": []
          },
          "execution_count": 26
        }
      ]
    },
    {
      "cell_type": "markdown",
      "metadata": {
        "id": "YXBX2ZyoorGq"
      },
      "source": [
        "#DOWNLOADING MODEL"
      ]
    },
    {
      "cell_type": "code",
      "metadata": {
        "colab": {
          "base_uri": "https://localhost:8080/"
        },
        "id": "j5wvuZ-qL2SP",
        "outputId": "f86718c4-9526-4303-dfc6-f10facdff52c"
      },
      "source": [
        "joblib.dump(classifier,'file5.pkl')"
      ],
      "execution_count": null,
      "outputs": [
        {
          "output_type": "execute_result",
          "data": {
            "text/plain": [
              "['file5.pkl']"
            ]
          },
          "metadata": {
            "tags": []
          },
          "execution_count": 26
        }
      ]
    },
    {
      "cell_type": "code",
      "metadata": {
        "id": "beXKWWuav-I4"
      },
      "source": [
        "from sklearn import svm\n",
        "classifier=svm.LinearSVC(multi_class='ovr',max_iter=2000)\n",
        "classifier.fit(SampleX,SampleY)\n"
      ],
      "execution_count": null,
      "outputs": []
    },
    {
      "cell_type": "code",
      "metadata": {
        "colab": {
          "base_uri": "https://localhost:8080/"
        },
        "id": "TtBLrlKrnCGF",
        "outputId": "e962ccfb-a1c5-4f71-f36e-3a7521c9005d"
      },
      "source": [
        "classifier.score(SampleX,SampleY)"
      ],
      "execution_count": null,
      "outputs": [
        {
          "output_type": "execute_result",
          "data": {
            "text/plain": [
              "0.6213592233009708"
            ]
          },
          "metadata": {
            "tags": []
          },
          "execution_count": 30
        }
      ]
    },
    {
      "cell_type": "code",
      "metadata": {
        "id": "oWzPX8bmLwfO"
      },
      "source": [
        "y_pred=model.predict(SampleX)"
      ],
      "execution_count": null,
      "outputs": []
    },
    {
      "cell_type": "code",
      "metadata": {
        "id": "qgcWeyFpLvH7"
      },
      "source": [
        "from sklearn.metrics import precision_score\n",
        "precision = precision_score(y_test, y_pred,average='micro')\n"
      ],
      "execution_count": null,
      "outputs": []
    },
    {
      "cell_type": "code",
      "metadata": {
        "colab": {
          "base_uri": "https://localhost:8080/"
        },
        "id": "gJCTQzB1NFb3",
        "outputId": "e4ab27e5-52d2-4cdd-88e7-513e6511b69e"
      },
      "source": [
        "precision"
      ],
      "execution_count": null,
      "outputs": [
        {
          "output_type": "execute_result",
          "data": {
            "text/plain": [
              "0.474527209571594"
            ]
          },
          "metadata": {
            "tags": []
          },
          "execution_count": 16
        }
      ]
    },
    {
      "cell_type": "code",
      "metadata": {
        "colab": {
          "base_uri": "https://localhost:8080/",
          "height": 17
        },
        "id": "52Y0P4eXvicl",
        "outputId": "f9f721ec-a825-4f7d-da98-a2dca4205dcc"
      },
      "source": [
        "files.download('file5.pkl') "
      ],
      "execution_count": null,
      "outputs": [
        {
          "output_type": "display_data",
          "data": {
            "application/javascript": [
              "\n",
              "    async function download(id, filename, size) {\n",
              "      if (!google.colab.kernel.accessAllowed) {\n",
              "        return;\n",
              "      }\n",
              "      const div = document.createElement('div');\n",
              "      const label = document.createElement('label');\n",
              "      label.textContent = `Downloading \"${filename}\": `;\n",
              "      div.appendChild(label);\n",
              "      const progress = document.createElement('progress');\n",
              "      progress.max = size;\n",
              "      div.appendChild(progress);\n",
              "      document.body.appendChild(div);\n",
              "\n",
              "      const buffers = [];\n",
              "      let downloaded = 0;\n",
              "\n",
              "      const channel = await google.colab.kernel.comms.open(id);\n",
              "      // Send a message to notify the kernel that we're ready.\n",
              "      channel.send({})\n",
              "\n",
              "      for await (const message of channel.messages) {\n",
              "        // Send a message to notify the kernel that we're ready.\n",
              "        channel.send({})\n",
              "        if (message.buffers) {\n",
              "          for (const buffer of message.buffers) {\n",
              "            buffers.push(buffer);\n",
              "            downloaded += buffer.byteLength;\n",
              "            progress.value = downloaded;\n",
              "          }\n",
              "        }\n",
              "      }\n",
              "      const blob = new Blob(buffers, {type: 'application/binary'});\n",
              "      const a = document.createElement('a');\n",
              "      a.href = window.URL.createObjectURL(blob);\n",
              "      a.download = filename;\n",
              "      div.appendChild(a);\n",
              "      a.click();\n",
              "      div.remove();\n",
              "    }\n",
              "  "
            ],
            "text/plain": [
              "<IPython.core.display.Javascript object>"
            ]
          },
          "metadata": {
            "tags": []
          }
        },
        {
          "output_type": "display_data",
          "data": {
            "application/javascript": [
              "download(\"download_6e0d7412-513e-42f1-a1b3-c52ff1b11716\", \"file5.pkl\", 77713)"
            ],
            "text/plain": [
              "<IPython.core.display.Javascript object>"
            ]
          },
          "metadata": {
            "tags": []
          }
        }
      ]
    }
  ]
}